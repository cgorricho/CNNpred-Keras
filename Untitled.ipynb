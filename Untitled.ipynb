{
 "cells": [
  {
   "cell_type": "code",
   "execution_count": 2,
   "id": "25703669-af4c-48e1-bdf3-31b3976b158b",
   "metadata": {},
   "outputs": [
    {
     "name": "stdout",
     "output_type": "stream",
     "text": [
      "Requirement already satisfied: jupytext in c:\\users\\cgorricho\\anaconda3\\lib\\site-packages (1.14.4)Note: you may need to restart the kernel to use updated packages.\n",
      "\n",
      "Requirement already satisfied: markdown-it-py<3.0.0,>=1.0.0 in c:\\users\\cgorricho\\anaconda3\\lib\\site-packages (from jupytext) (2.1.0)\n",
      "Requirement already satisfied: toml in c:\\users\\cgorricho\\anaconda3\\lib\\site-packages (from jupytext) (0.10.2)\n",
      "Requirement already satisfied: nbformat in c:\\users\\cgorricho\\anaconda3\\lib\\site-packages (from jupytext) (5.5.0)\n",
      "Requirement already satisfied: mdit-py-plugins in c:\\users\\cgorricho\\anaconda3\\lib\\site-packages (from jupytext) (0.3.3)\n",
      "Requirement already satisfied: pyyaml in c:\\users\\cgorricho\\anaconda3\\lib\\site-packages (from jupytext) (6.0)\n",
      "Requirement already satisfied: mdurl~=0.1 in c:\\users\\cgorricho\\anaconda3\\lib\\site-packages (from markdown-it-py<3.0.0,>=1.0.0->jupytext) (0.1.2)\n",
      "Requirement already satisfied: jsonschema>=2.6 in c:\\users\\cgorricho\\anaconda3\\lib\\site-packages (from nbformat->jupytext) (4.16.0)\n",
      "Requirement already satisfied: jupyter_core in c:\\users\\cgorricho\\anaconda3\\lib\\site-packages (from nbformat->jupytext) (4.11.2)\n",
      "Requirement already satisfied: traitlets>=5.1 in c:\\users\\cgorricho\\anaconda3\\lib\\site-packages (from nbformat->jupytext) (5.1.1)\n",
      "Requirement already satisfied: fastjsonschema in c:\\users\\cgorricho\\anaconda3\\lib\\site-packages (from nbformat->jupytext) (2.16.2)\n",
      "Requirement already satisfied: pyrsistent!=0.17.0,!=0.17.1,!=0.17.2,>=0.14.0 in c:\\users\\cgorricho\\anaconda3\\lib\\site-packages (from jsonschema>=2.6->nbformat->jupytext) (0.18.0)\n",
      "Requirement already satisfied: attrs>=17.4.0 in c:\\users\\cgorricho\\anaconda3\\lib\\site-packages (from jsonschema>=2.6->nbformat->jupytext) (22.1.0)\n",
      "Requirement already satisfied: pywin32>=1.0 in c:\\users\\cgorricho\\anaconda3\\lib\\site-packages (from jupyter_core->nbformat->jupytext) (305.1)\n"
     ]
    }
   ],
   "source": [
    "%pip install jupytext"
   ]
  },
  {
   "cell_type": "code",
   "execution_count": 8,
   "id": "de226f37-5d24-4278-926e-2d5ffa893b0e",
   "metadata": {},
   "outputs": [
    {
     "name": "stdout",
     "output_type": "stream",
     "text": [
      "[jupytext] Reading 2D_CNNpred.py in format py\n",
      "[jupytext] Writing 2D_CNNpred.ipynb\n"
     ]
    }
   ],
   "source": [
    "!jupytext --to notebook 2D_CNNpred.py"
   ]
  }
 ],
 "metadata": {
  "kernelspec": {
   "display_name": "Python 3 (ipykernel)",
   "language": "python",
   "name": "python3"
  },
  "language_info": {
   "codemirror_mode": {
    "name": "ipython",
    "version": 3
   },
   "file_extension": ".py",
   "mimetype": "text/x-python",
   "name": "python",
   "nbconvert_exporter": "python",
   "pygments_lexer": "ipython3",
   "version": "3.9.13"
  }
 },
 "nbformat": 4,
 "nbformat_minor": 5
}
